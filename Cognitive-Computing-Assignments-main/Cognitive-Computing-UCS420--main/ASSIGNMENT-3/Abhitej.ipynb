{
 "cells": [
  {
   "cell_type": "markdown",
   "id": "bf3a9a27",
   "metadata": {},
   "source": [
    "#                       Abhitej Singh Dhaliwal\n",
    "#                       102317120\n",
    "#                          2Q14\n"
   ]
  },
  {
   "cell_type": "markdown",
   "id": "861c9797",
   "metadata": {},
   "source": [
    "### Q1."
   ]
  },
  {
   "cell_type": "code",
   "execution_count": 94,
   "id": "9f5314bb",
   "metadata": {},
   "outputs": [
    {
     "name": "stdout",
     "output_type": "stream",
     "text": [
      "   Tid Refund Marital-Status  Taxable-Income Cheat\n",
      "0    1    Yes         Single          125000    No\n",
      "1    2     No        Married          100000    No\n",
      "2    3     No         Single           70000    No\n",
      "3    4    Yes        Married          120000    No\n",
      "4    5     No       Divorced           95000   Yes\n",
      "5    6     No        Married           60000    No\n",
      "6    7    Yes       Divorced          220000    No\n",
      "7    8     No         Single           85000   Yes\n",
      "8    9     No        Married           75000    No\n",
      "9   10     No         Single           90000   Yes\n"
     ]
    }
   ],
   "source": [
    "import pandas as pd\n",
    "data = {\n",
    "    'Tid' : [1,2,3,4,5,6,7,8,9,10],\n",
    "    'Refund' : ['Yes','No','No','Yes','No','No','Yes','No','No','No'],\n",
    "    'Marital-Status' : ['Single','Married','Single','Married','Divorced','Married','Divorced','Single','Married','Single'],\n",
    "    'Taxable-Income' : [125000,100000,70000,120000,95000,60000,220000,85000,75000,90000],\n",
    "    'Cheat' : ['No','No','No','No','Yes','No','No','Yes','No','Yes']\n",
    "}\n",
    "dataset= pd.DataFrame(data)\n",
    "print(dataset)"
   ]
  },
  {
   "cell_type": "markdown",
   "id": "97ff7afd",
   "metadata": {},
   "source": [
    "### Q2."
   ]
  },
  {
   "cell_type": "code",
   "execution_count": 98,
   "id": "c46c106f",
   "metadata": {},
   "outputs": [
    {
     "name": "stdout",
     "output_type": "stream",
     "text": [
      "   Tid Refund Marital-Status  Taxable-Income Cheat\n",
      "0    1    Yes         Single          125000    No\n",
      "4    5     No       Divorced           95000   Yes\n",
      "7    8     No         Single           85000   Yes\n",
      "8    9     No        Married           75000    No\n"
     ]
    }
   ],
   "source": [
    "row=dataset.iloc[[0,4,7,8]]\n",
    "print(row)"
   ]
  },
  {
   "cell_type": "markdown",
   "id": "b3903658",
   "metadata": {},
   "source": [
    "### Q3."
   ]
  },
  {
   "cell_type": "markdown",
   "id": "e0b95259",
   "metadata": {},
   "source": [
    "##### i"
   ]
  },
  {
   "cell_type": "code",
   "execution_count": 102,
   "id": "2a3acc65",
   "metadata": {},
   "outputs": [
    {
     "name": "stdout",
     "output_type": "stream",
     "text": [
      "   Tid Refund Marital-Status  Taxable-Income Cheat\n",
      "3    4    Yes        Married          120000    No\n",
      "4    5     No       Divorced           95000   Yes\n",
      "5    6     No        Married           60000    No\n",
      "6    7    Yes       Divorced          220000    No\n",
      "7    8     No         Single           85000   Yes\n"
     ]
    }
   ],
   "source": [
    "Q31rows=dataset.iloc[3:8]   \n",
    "print(Q31rows)"
   ]
  },
  {
   "cell_type": "markdown",
   "id": "fb2890b7",
   "metadata": {},
   "source": [
    "#### ii"
   ]
  },
  {
   "cell_type": "code",
   "execution_count": 106,
   "id": "9b890d88",
   "metadata": {},
   "outputs": [
    {
     "name": "stdout",
     "output_type": "stream",
     "text": [
      "  Marital-Status  Taxable-Income Cheat\n",
      "4       Divorced           95000   Yes\n",
      "5        Married           60000    No\n",
      "6       Divorced          220000    No\n",
      "7         Single           85000   Yes\n",
      "8        Married           75000    No\n"
     ]
    }
   ],
   "source": [
    "Q32rows = dataset.iloc[4:9,2:5]  \n",
    "print(Q32rows)"
   ]
  },
  {
   "cell_type": "markdown",
   "id": "d2e119e4",
   "metadata": {},
   "source": [
    "#### iii"
   ]
  },
  {
   "cell_type": "code",
   "execution_count": 110,
   "id": "dd840474",
   "metadata": {},
   "outputs": [
    {
     "name": "stdout",
     "output_type": "stream",
     "text": [
      "  Refund Marital-Status  Taxable-Income\n",
      "0    Yes         Single          125000\n",
      "1     No        Married          100000\n",
      "2     No         Single           70000\n",
      "3    Yes        Married          120000\n",
      "4     No       Divorced           95000\n",
      "5     No        Married           60000\n",
      "6    Yes       Divorced          220000\n",
      "7     No         Single           85000\n",
      "8     No        Married           75000\n",
      "9     No         Single           90000\n"
     ]
    }
   ],
   "source": [
    "Q33rows = dataset.iloc[:,1:4]      \n",
    "print(Q33rows)"
   ]
  },
  {
   "cell_type": "markdown",
   "id": "488eb3b2",
   "metadata": {},
   "source": [
    "### Q4."
   ]
  },
  {
   "cell_type": "code",
   "execution_count": 116,
   "id": "63eaf1e2",
   "metadata": {},
   "outputs": [
    {
     "name": "stdout",
     "output_type": "stream",
     "text": [
      "[[1 5.1 3.5 1.4 0.2 'Iris-setosa']\n",
      " [2 4.9 3.0 1.4 0.2 'Iris-setosa']\n",
      " [3 4.7 3.2 1.3 0.2 'Iris-setosa']\n",
      " [4 4.6 3.1 1.5 0.2 'Iris-setosa']\n",
      " [5 5.0 3.6 1.4 0.2 'Iris-setosa']]\n"
     ]
    }
   ],
   "source": [
    "dataset1=pd.read_csv('iris.csv')\n",
    "first_five=dataset1.iloc[:5,:].values\n",
    "print(first_five)"
   ]
  },
  {
   "cell_type": "markdown",
   "id": "f26d675a",
   "metadata": {},
   "source": [
    "### Q5."
   ]
  },
  {
   "cell_type": "code",
   "execution_count": 118,
   "id": "13a814a8",
   "metadata": {},
   "outputs": [
    {
     "data": {
      "text/html": [
       "<div>\n",
       "<style scoped>\n",
       "    .dataframe tbody tr th:only-of-type {\n",
       "        vertical-align: middle;\n",
       "    }\n",
       "\n",
       "    .dataframe tbody tr th {\n",
       "        vertical-align: top;\n",
       "    }\n",
       "\n",
       "    .dataframe thead th {\n",
       "        text-align: right;\n",
       "    }\n",
       "</style>\n",
       "<table border=\"1\" class=\"dataframe\">\n",
       "  <thead>\n",
       "    <tr style=\"text-align: right;\">\n",
       "      <th></th>\n",
       "      <th>Id</th>\n",
       "      <th>SepalLengthCm</th>\n",
       "      <th>PetalLengthCm</th>\n",
       "      <th>PetalWidthCm</th>\n",
       "      <th>Species</th>\n",
       "    </tr>\n",
       "  </thead>\n",
       "  <tbody>\n",
       "    <tr>\n",
       "      <th>0</th>\n",
       "      <td>1</td>\n",
       "      <td>5.1</td>\n",
       "      <td>1.4</td>\n",
       "      <td>0.2</td>\n",
       "      <td>Iris-setosa</td>\n",
       "    </tr>\n",
       "    <tr>\n",
       "      <th>1</th>\n",
       "      <td>2</td>\n",
       "      <td>4.9</td>\n",
       "      <td>1.4</td>\n",
       "      <td>0.2</td>\n",
       "      <td>Iris-setosa</td>\n",
       "    </tr>\n",
       "    <tr>\n",
       "      <th>2</th>\n",
       "      <td>3</td>\n",
       "      <td>4.7</td>\n",
       "      <td>1.3</td>\n",
       "      <td>0.2</td>\n",
       "      <td>Iris-setosa</td>\n",
       "    </tr>\n",
       "    <tr>\n",
       "      <th>3</th>\n",
       "      <td>4</td>\n",
       "      <td>4.6</td>\n",
       "      <td>1.5</td>\n",
       "      <td>0.2</td>\n",
       "      <td>Iris-setosa</td>\n",
       "    </tr>\n",
       "    <tr>\n",
       "      <th>5</th>\n",
       "      <td>6</td>\n",
       "      <td>5.4</td>\n",
       "      <td>1.7</td>\n",
       "      <td>0.4</td>\n",
       "      <td>Iris-setosa</td>\n",
       "    </tr>\n",
       "  </tbody>\n",
       "</table>\n",
       "</div>"
      ],
      "text/plain": [
       "   Id  SepalLengthCm  PetalLengthCm  PetalWidthCm      Species\n",
       "0   1            5.1            1.4           0.2  Iris-setosa\n",
       "1   2            4.9            1.4           0.2  Iris-setosa\n",
       "2   3            4.7            1.3           0.2  Iris-setosa\n",
       "3   4            4.6            1.5           0.2  Iris-setosa\n",
       "5   6            5.4            1.7           0.4  Iris-setosa"
      ]
     },
     "execution_count": 118,
     "metadata": {},
     "output_type": "execute_result"
    }
   ],
   "source": [
    "dataset1_del_row = dataset1.drop(index = 4)\n",
    "dataset1_del_col = dataset1_del_row.drop(dataset1_del_row.columns[2],axis = 1)\n",
    "dataset1_del_col.head()"
   ]
  },
  {
   "cell_type": "markdown",
   "id": "5b2880f2",
   "metadata": {},
   "source": [
    "### Q6."
   ]
  },
  {
   "cell_type": "code",
   "execution_count": 120,
   "id": "398cdba3",
   "metadata": {
    "scrolled": true
   },
   "outputs": [
    {
     "name": "stdout",
     "output_type": "stream",
     "text": [
      "   Employee_ID     Name Department  Age  Salary  Years_of_Experience  \\\n",
      "0          101    Alice         HR   29   50000                    4   \n",
      "1          102      Bob         IT   34   70000                    8   \n",
      "2          103  Charlie         IT   41   65000                   10   \n",
      "3          104    Diana  Marketing   28   55000                    3   \n",
      "4          105   Edward      Sales   38   60000                   12   \n",
      "\n",
      "  Joining_Date  Gender  Bonus  Rating  \n",
      "0   2020-03-15  Female   5000     4.5  \n",
      "1   2017-07-19    Male   7000     4.0  \n",
      "2   2013-06-01    Male   6000     3.8  \n",
      "3   2021-02-10  Female   4500     4.7  \n",
      "4   2010-11-25    Male   5000     3.5  \n"
     ]
    }
   ],
   "source": [
    "data1 = {\n",
    "    'Employee_ID' : [101,102,103,104,105],\n",
    "    'Name' : ['Alice','Bob','Charlie','Diana','Edward'],\n",
    "    'Department' : ['HR','IT','IT','Marketing','Sales'],\n",
    "    'Age' : [29,34,41,28,38],\n",
    "    'Salary' : [50000,70000,65000,55000,60000],\n",
    "    'Years_of_Experience' : [4,8,10,3,12],\n",
    "    'Joining_Date' : ['2020-03-15','2017-07-19','2013-06-01','2021-02-10','2010-11-25'],\n",
    "    'Gender' : ['Female','Male','Male','Female','Male'],\n",
    "    'Bonus' : [5000,7000,6000,4500,5000],\n",
    "    'Rating' : [4.5,4.0,3.8,4.7,3.5]\n",
    "}\n",
    "\n",
    "dataset2= pd.DataFrame(data1)\n",
    "dataset2.to_csv('employees.csv')\n",
    "print(dataset2)\n",
    "\n"
   ]
  },
  {
   "cell_type": "markdown",
   "id": "bca6b49b",
   "metadata": {},
   "source": [
    "##### (a)"
   ]
  },
  {
   "cell_type": "code",
   "execution_count": 122,
   "id": "91e297bb",
   "metadata": {},
   "outputs": [
    {
     "name": "stdout",
     "output_type": "stream",
     "text": [
      "(5, 10)\n"
     ]
    }
   ],
   "source": [
    "print(dataset2.shape)"
   ]
  },
  {
   "cell_type": "markdown",
   "id": "648560f6",
   "metadata": {},
   "source": [
    "##### (b)"
   ]
  },
  {
   "cell_type": "code",
   "execution_count": 124,
   "id": "ab166140",
   "metadata": {},
   "outputs": [
    {
     "name": "stdout",
     "output_type": "stream",
     "text": [
      "<class 'pandas.core.frame.DataFrame'>\n",
      "RangeIndex: 5 entries, 0 to 4\n",
      "Data columns (total 10 columns):\n",
      " #   Column               Non-Null Count  Dtype  \n",
      "---  ------               --------------  -----  \n",
      " 0   Employee_ID          5 non-null      int64  \n",
      " 1   Name                 5 non-null      object \n",
      " 2   Department           5 non-null      object \n",
      " 3   Age                  5 non-null      int64  \n",
      " 4   Salary               5 non-null      int64  \n",
      " 5   Years_of_Experience  5 non-null      int64  \n",
      " 6   Joining_Date         5 non-null      object \n",
      " 7   Gender               5 non-null      object \n",
      " 8   Bonus                5 non-null      int64  \n",
      " 9   Rating               5 non-null      float64\n",
      "dtypes: float64(1), int64(5), object(4)\n",
      "memory usage: 532.0+ bytes\n",
      "None\n"
     ]
    }
   ],
   "source": [
    "print(dataset2.info())"
   ]
  },
  {
   "cell_type": "markdown",
   "id": "da6a7223",
   "metadata": {},
   "source": [
    "##### (c)"
   ]
  },
  {
   "cell_type": "code",
   "execution_count": 129,
   "id": "b550c0b9",
   "metadata": {},
   "outputs": [
    {
     "name": "stdout",
     "output_type": "stream",
     "text": [
      "       Employee_ID        Age       Salary  Years_of_Experience   Bonus  \\\n",
      "count     5.000000   5.000000      5.00000             5.000000     5.0   \n",
      "mean    103.000000  34.000000  60000.00000             7.400000  5500.0   \n",
      "std       1.581139   5.612486   7905.69415             3.847077  1000.0   \n",
      "min     101.000000  28.000000  50000.00000             3.000000  4500.0   \n",
      "25%     102.000000  29.000000  55000.00000             4.000000  5000.0   \n",
      "50%     103.000000  34.000000  60000.00000             8.000000  5000.0   \n",
      "75%     104.000000  38.000000  65000.00000            10.000000  6000.0   \n",
      "max     105.000000  41.000000  70000.00000            12.000000  7000.0   \n",
      "\n",
      "         Rating  \n",
      "count  5.000000  \n",
      "mean   4.100000  \n",
      "std    0.494975  \n",
      "min    3.500000  \n",
      "25%    3.800000  \n",
      "50%    4.000000  \n",
      "75%    4.500000  \n",
      "max    4.700000  \n"
     ]
    }
   ],
   "source": [
    "print(dataset2.describe())"
   ]
  },
  {
   "cell_type": "markdown",
   "id": "e0a18a03",
   "metadata": {},
   "source": [
    "##### (d)"
   ]
  },
  {
   "cell_type": "code",
   "execution_count": 139,
   "id": "21f21d23",
   "metadata": {},
   "outputs": [
    {
     "name": "stdout",
     "output_type": "stream",
     "text": [
      "   Employee_ID     Name Department  Age  Salary  Years_of_Experience  \\\n",
      "0          101    Alice         HR   29   50000                    4   \n",
      "1          102      Bob         IT   34   70000                    8   \n",
      "2          103  Charlie         IT   41   65000                   10   \n",
      "3          104    Diana  Marketing   28   55000                    3   \n",
      "4          105   Edward      Sales   38   60000                   12   \n",
      "\n",
      "  Joining_Date  Gender  Bonus  Rating  \n",
      "0   2020-03-15  Female   5000     4.5  \n",
      "1   2017-07-19    Male   7000     4.0  \n",
      "2   2013-06-01    Male   6000     3.8  \n",
      "3   2021-02-10  Female   4500     4.7  \n",
      "4   2010-11-25    Male   5000     3.5  \n"
     ]
    }
   ],
   "source": [
    "print(dataset2.head())"
   ]
  },
  {
   "cell_type": "code",
   "execution_count": 141,
   "id": "b0b8f672",
   "metadata": {},
   "outputs": [
    {
     "name": "stdout",
     "output_type": "stream",
     "text": [
      "   Employee_ID     Name Department  Age  Salary  Years_of_Experience  \\\n",
      "2          103  Charlie         IT   41   65000                   10   \n",
      "3          104    Diana  Marketing   28   55000                    3   \n",
      "4          105   Edward      Sales   38   60000                   12   \n",
      "\n",
      "  Joining_Date  Gender  Bonus  Rating  \n",
      "2   2013-06-01    Male   6000     3.8  \n",
      "3   2021-02-10  Female   4500     4.7  \n",
      "4   2010-11-25    Male   5000     3.5  \n"
     ]
    }
   ],
   "source": [
    "print(dataset2.tail(3))"
   ]
  },
  {
   "cell_type": "markdown",
   "id": "4935db60",
   "metadata": {},
   "source": [
    "##### (e)"
   ]
  },
  {
   "cell_type": "code",
   "execution_count": 143,
   "id": "4252d65f",
   "metadata": {},
   "outputs": [
    {
     "name": "stdout",
     "output_type": "stream",
     "text": [
      "Average Salary of Employees : 60000.0\n",
      "Total Bonus paid to Employees : 27500\n",
      "Youngest employee's age : 28\n",
      "Highest performance rating : 4.7\n"
     ]
    }
   ],
   "source": [
    "avg_sal = dataset2['Salary'].mean()\n",
    "total_bonus = dataset2['Bonus'].sum()\n",
    "min_age = dataset2['Age'].min()\n",
    "max_rate = dataset2['Rating'].max()\n",
    "\n",
    "print(f'Average Salary of Employees : {avg_sal}')\n",
    "print(f'Total Bonus paid to Employees : {total_bonus}')\n",
    "print(f\"Youngest employee's age : {min_age}\")\n",
    "print(f'Highest performance rating : {max_rate}')"
   ]
  },
  {
   "cell_type": "markdown",
   "id": "d3bdf459",
   "metadata": {},
   "source": [
    "##### (f)"
   ]
  },
  {
   "cell_type": "code",
   "execution_count": 145,
   "id": "80622af0",
   "metadata": {},
   "outputs": [
    {
     "name": "stdout",
     "output_type": "stream",
     "text": [
      "   Employee_ID     Name Department  Age  Salary  Years_of_Experience  \\\n",
      "1          102      Bob         IT   34   70000                    8   \n",
      "2          103  Charlie         IT   41   65000                   10   \n",
      "4          105   Edward      Sales   38   60000                   12   \n",
      "3          104    Diana  Marketing   28   55000                    3   \n",
      "0          101    Alice         HR   29   50000                    4   \n",
      "\n",
      "  Joining_Date  Gender  Bonus  Rating  \n",
      "1   2017-07-19    Male   7000     4.0  \n",
      "2   2013-06-01    Male   6000     3.8  \n",
      "4   2010-11-25    Male   5000     3.5  \n",
      "3   2021-02-10  Female   4500     4.7  \n",
      "0   2020-03-15  Female   5000     4.5  \n"
     ]
    }
   ],
   "source": [
    "sorted_dataset= dataset2.sort_values(by = \"Salary\",ascending = False)\n",
    "print(sorted_dataset)\n"
   ]
  },
  {
   "cell_type": "markdown",
   "id": "5c2c0965",
   "metadata": {},
   "source": [
    "##### (g)"
   ]
  },
  {
   "cell_type": "code",
   "execution_count": 147,
   "id": "c24320bd",
   "metadata": {},
   "outputs": [
    {
     "name": "stdout",
     "output_type": "stream",
     "text": [
      "   Employee_ID     Name Department  Age  Salary  Years_of_Experience  \\\n",
      "0          101    Alice         HR   29   50000                    4   \n",
      "1          102      Bob         IT   34   70000                    8   \n",
      "2          103  Charlie         IT   41   65000                   10   \n",
      "3          104    Diana  Marketing   28   55000                    3   \n",
      "4          105   Edward      Sales   38   60000                   12   \n",
      "\n",
      "  Joining_Date  Gender  Bonus  Rating Performance  \n",
      "0   2020-03-15  Female   5000     4.5   Excellent  \n",
      "1   2017-07-19    Male   7000     4.0        Good  \n",
      "2   2013-06-01    Male   6000     3.8     Average  \n",
      "3   2021-02-10  Female   4500     4.7   Excellent  \n",
      "4   2010-11-25    Male   5000     3.5     Average  \n"
     ]
    }
   ],
   "source": [
    "def performance(Rating):\n",
    "    if Rating >= 4.5:\n",
    "        return 'Excellent'\n",
    "    elif Rating >= 4.0 and Rating < 4.5:\n",
    "        return 'Good'\n",
    "    else:\n",
    "        return 'Average'\n",
    "    \n",
    "dataset2['Performance'] = dataset2['Rating'].apply(performance)\n",
    "print(dataset2)\n"
   ]
  },
  {
   "cell_type": "markdown",
   "id": "9c84eafa",
   "metadata": {},
   "source": [
    "##### (h)"
   ]
  },
  {
   "cell_type": "code",
   "execution_count": 149,
   "id": "699439c6",
   "metadata": {},
   "outputs": [
    {
     "name": "stdout",
     "output_type": "stream",
     "text": [
      "Employee_ID            0\n",
      "Name                   0\n",
      "Department             0\n",
      "Age                    0\n",
      "Salary                 0\n",
      "Years_of_Experience    0\n",
      "Joining_Date           0\n",
      "Gender                 0\n",
      "Bonus                  0\n",
      "Rating                 0\n",
      "Performance            0\n",
      "dtype: int64\n"
     ]
    }
   ],
   "source": [
    "missing=dataset2.isnull().sum()\n",
    "print(missing)"
   ]
  },
  {
   "cell_type": "markdown",
   "id": "ce6983bd",
   "metadata": {},
   "source": [
    "##### (i)"
   ]
  },
  {
   "cell_type": "code",
   "execution_count": 151,
   "id": "cd492c69",
   "metadata": {},
   "outputs": [
    {
     "name": "stdout",
     "output_type": "stream",
     "text": [
      "    ID     Name Department  Age  Salary  Years_of_Experience Joining_Date  \\\n",
      "0  101    Alice         HR   29   50000                    4   2020-03-15   \n",
      "1  102      Bob         IT   34   70000                    8   2017-07-19   \n",
      "2  103  Charlie         IT   41   65000                   10   2013-06-01   \n",
      "3  104    Diana  Marketing   28   55000                    3   2021-02-10   \n",
      "4  105   Edward      Sales   38   60000                   12   2010-11-25   \n",
      "\n",
      "   Gender  Bonus  Rating Performance  \n",
      "0  Female   5000     4.5   Excellent  \n",
      "1    Male   7000     4.0        Good  \n",
      "2    Male   6000     3.8     Average  \n",
      "3  Female   4500     4.7   Excellent  \n",
      "4    Male   5000     3.5     Average  \n"
     ]
    }
   ],
   "source": [
    "dataset2.rename(columns = {'Employee_ID' : 'ID'},inplace = True)\n",
    "print(dataset2)\n"
   ]
  },
  {
   "cell_type": "markdown",
   "id": "0bb99beb",
   "metadata": {},
   "source": [
    "##### (j)"
   ]
  },
  {
   "cell_type": "code",
   "execution_count": 153,
   "id": "667d55cd",
   "metadata": {},
   "outputs": [
    {
     "name": "stdout",
     "output_type": "stream",
     "text": [
      "    ID     Name Department  Age  Salary  Years_of_Experience Joining_Date  \\\n",
      "1  102      Bob         IT   34   70000                    8   2017-07-19   \n",
      "2  103  Charlie         IT   41   65000                   10   2013-06-01   \n",
      "4  105   Edward      Sales   38   60000                   12   2010-11-25   \n",
      "\n",
      "  Gender  Bonus  Rating Performance  \n",
      "1   Male   7000     4.0        Good  \n",
      "2   Male   6000     3.8     Average  \n",
      "4   Male   5000     3.5     Average  \n"
     ]
    }
   ],
   "source": [
    "experience = dataset2[(dataset2['Years_of_Experience'] > 5)]\n",
    "print(experience)"
   ]
  },
  {
   "cell_type": "code",
   "execution_count": 155,
   "id": "6e573532",
   "metadata": {},
   "outputs": [
    {
     "name": "stdout",
     "output_type": "stream",
     "text": [
      "    ID     Name Department  Age  Salary  Years_of_Experience Joining_Date  \\\n",
      "1  102      Bob         IT   34   70000                    8   2017-07-19   \n",
      "2  103  Charlie         IT   41   65000                   10   2013-06-01   \n",
      "\n",
      "  Gender  Bonus  Rating Performance  \n",
      "1   Male   7000     4.0        Good  \n",
      "2   Male   6000     3.8     Average  \n"
     ]
    }
   ],
   "source": [
    "dept = dataset2[(dataset2['Department'] == 'IT')]\n",
    "print(dept)"
   ]
  },
  {
   "cell_type": "markdown",
   "id": "7a00edf0",
   "metadata": {},
   "source": [
    "##### (k)"
   ]
  },
  {
   "cell_type": "code",
   "execution_count": 159,
   "id": "7021d59f",
   "metadata": {},
   "outputs": [
    {
     "name": "stdout",
     "output_type": "stream",
     "text": [
      "    ID     Name Department  Age  Salary  Years_of_Experience Joining_Date  \\\n",
      "0  101    Alice         HR   29   50000                    4   2020-03-15   \n",
      "1  102      Bob         IT   34   70000                    8   2017-07-19   \n",
      "2  103  Charlie         IT   41   65000                   10   2013-06-01   \n",
      "3  104    Diana  Marketing   28   55000                    3   2021-02-10   \n",
      "4  105   Edward      Sales   38   60000                   12   2010-11-25   \n",
      "\n",
      "   Gender  Bonus  Rating Performance     Tax  \n",
      "0  Female   5000     4.5   Excellent  5000.0  \n",
      "1    Male   7000     4.0        Good  7000.0  \n",
      "2    Male   6000     3.8     Average  6500.0  \n",
      "3  Female   4500     4.7   Excellent  5500.0  \n",
      "4    Male   5000     3.5     Average  6000.0  \n"
     ]
    }
   ],
   "source": [
    "dataset2['Tax'] = dataset2['Salary'] * 0.10\n",
    "print(dataset2)"
   ]
  },
  {
   "cell_type": "markdown",
   "id": "91d8a26f",
   "metadata": {},
   "source": [
    "##### (l)"
   ]
  },
  {
   "cell_type": "code",
   "execution_count": 161,
   "id": "f74fd921",
   "metadata": {},
   "outputs": [
    {
     "name": "stdout",
     "output_type": "stream",
     "text": [
      "    ID     Name Department  Age  Salary  Years_of_Experience Joining_Date  \\\n",
      "0  101    Alice         HR   29   50000                    4   2020-03-15   \n",
      "1  102      Bob         IT   34   70000                    8   2017-07-19   \n",
      "2  103  Charlie         IT   41   65000                   10   2013-06-01   \n",
      "3  104    Diana  Marketing   28   55000                    3   2021-02-10   \n",
      "4  105   Edward      Sales   38   60000                   12   2010-11-25   \n",
      "\n",
      "   Gender  Bonus  Rating Performance     Tax  \n",
      "0  Female   5000     4.5   Excellent  5000.0  \n",
      "1    Male   7000     4.0        Good  7000.0  \n",
      "2    Male   6000     3.8     Average  6500.0  \n",
      "3  Female   4500     4.7   Excellent  5500.0  \n",
      "4    Male   5000     3.5     Average  6000.0  \n"
     ]
    }
   ],
   "source": [
    "dataset2.to_csv('employees_new.csv',index = False)\n",
    "print(dataset2)"
   ]
  }
 ],
 "metadata": {
  "kernelspec": {
   "display_name": "Python 3 (ipykernel)",
   "language": "python",
   "name": "python3"
  },
  "language_info": {
   "codemirror_mode": {
    "name": "ipython",
    "version": 3
   },
   "file_extension": ".py",
   "mimetype": "text/x-python",
   "name": "python",
   "nbconvert_exporter": "python",
   "pygments_lexer": "ipython3",
   "version": "3.12.7"
  }
 },
 "nbformat": 4,
 "nbformat_minor": 5
}
