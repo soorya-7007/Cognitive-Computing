{
 "cells": [
  {
   "cell_type": "code",
   "execution_count": 4,
   "id": "0aa0f9a5-3ee3-47df-bf47-96b23960be26",
   "metadata": {},
   "outputs": [],
   "source": [
    "import numpy as np"
   ]
  },
  {
   "cell_type": "code",
   "execution_count": 12,
   "id": "9004e24e-79ea-435c-934f-5a25c647ee47",
   "metadata": {},
   "outputs": [
    {
     "name": "stdout",
     "output_type": "stream",
     "text": [
      "[ 2  3  5  7 11]\n",
      "[ 4  5  7  9 13]\n",
      "[ 6  9 15 21 33]\n",
      "[1.  1.5 2.5 3.5 5.5]\n"
     ]
    }
   ],
   "source": [
    "numpy_arr=np.array([2,3,5,7,11])\n",
    "print(numpy_arr)\n",
    "add=numpy_arr+2\n",
    "print(add)\n",
    "multi=numpy_arr*3\n",
    "print(multi)\n",
    "div=numpy_arr/2\n",
    "print(div)"
   ]
  },
  {
   "cell_type": "code",
   "execution_count": 16,
   "id": "2e5a31e4-1dd6-4798-b086-8b7fb3a97df9",
   "metadata": {},
   "outputs": [
    {
     "name": "stdout",
     "output_type": "stream",
     "text": [
      "[5 4 6 3 2 1]\n"
     ]
    }
   ],
   "source": [
    "arr=np.array([1,2,3,6,4,5])\n",
    "arr_rev=arr[::-1]\n",
    "print(arr_rev)"
   ]
  },
  {
   "cell_type": "code",
   "execution_count": 22,
   "id": "e0f3daf7-995f-4d75-bf2a-1af6845be5c6",
   "metadata": {},
   "outputs": [
    {
     "name": "stdout",
     "output_type": "stream",
     "text": [
      "Most frequent value in x: 1, Indices: [0 5 7 8 9]\n",
      "Most frequent value in y: 1, Indices: [0 1 2]\n"
     ]
    }
   ],
   "source": [
    "def most_frequent(arr):\n",
    "    values, counts = np.unique(arr, return_counts=True)\n",
    "    max_count = np.max(counts)\n",
    "    most_frequent_value = values[np.argmax(counts)]\n",
    "    indices = np.where(arr == most_frequent_value)[0]\n",
    "    return most_frequent_value, indices\n",
    "\n",
    "x = np.array([1, 2, 3, 4, 5, 1, 2, 1, 1, 1])\n",
    "y = np.array([1, 1, 1, 2, 3, 4, 2, 4, 3, 3])\n",
    "\n",
    "mf_x, indices_x = most_frequent(x)\n",
    "mf_y, indices_y = most_frequent(y)\n",
    "\n",
    "print(f'Most frequent value in x: {mf_x}, Indices: {indices_x}')\n",
    "print(f'Most frequent value in y: {mf_y}, Indices: {indices_y}')"
   ]
  },
  {
   "cell_type": "code",
   "execution_count": 26,
   "id": "ff946c46-2df3-403d-b6c5-0a293e34a2c9",
   "metadata": {},
   "outputs": [
    {
     "name": "stdout",
     "output_type": "stream",
     "text": [
      "Q3a: 20\n",
      "Q3b: 70\n"
     ]
    }
   ],
   "source": [
    "arr = np.array([[10, 20, 30], [40, 50, 60], [70, 80, 90]])\n",
    "print('Q3a:', arr[0, 1])  # Output: 20\n",
    "print('Q3b:', arr[2, 0])  # Output: 70"
   ]
  },
  {
   "cell_type": "code",
   "execution_count": null,
   "id": "1fe9ef05-2d9d-4d17-8d19-2ac4646b96d1",
   "metadata": {},
   "outputs": [
    {
     "name": "stdout",
     "output_type": "stream",
     "text": [
      "[ 10.    13.75  17.5   21.25  25.    28.75  32.5   36.25  40.    43.75\n",
      "  47.5   51.25  55.    58.75  62.5   66.25  70.    73.75  77.5   81.25\n",
      "  85.    88.75  92.5   96.25 100.  ]\n",
      "Array: [ 10.    13.75  17.5   21.25  25.    28.75  32.5   36.25  40.    43.75\n",
      "  47.5   51.25  55.    58.75  62.5   66.25  70.    73.75  77.5   81.25\n",
      "  85.    88.75  92.5   96.25 100.  ]\n",
      "Dimensions: 1\n",
      "Shape: (25,)\n",
      "Total elements: 25\n",
      "Data type: float64\n",
      "Total bytes: 200\n",
      "Transpose of the array : [[ 10.  ]\n",
      " [ 13.75]\n",
      " [ 17.5 ]\n",
      " [ 21.25]\n",
      " [ 25.  ]\n",
      " [ 28.75]\n",
      " [ 32.5 ]\n",
      " [ 36.25]\n",
      " [ 40.  ]\n",
      " [ 43.75]\n",
      " [ 47.5 ]\n",
      " [ 51.25]\n",
      " [ 55.  ]\n",
      " [ 58.75]\n",
      " [ 62.5 ]\n",
      " [ 66.25]\n",
      " [ 70.  ]\n",
      " [ 73.75]\n",
      " [ 77.5 ]\n",
      " [ 81.25]\n",
      " [ 85.  ]\n",
      " [ 88.75]\n",
      " [ 92.5 ]\n",
      " [ 96.25]\n",
      " [100.  ]]\n",
      "Transpose of the array : [ 10.    13.75  17.5   21.25  25.    28.75  32.5   36.25  40.    43.75\n",
      "  47.5   51.25  55.    58.75  62.5   66.25  70.    73.75  77.5   81.25\n",
      "  85.    88.75  92.5   96.25 100.  ]\n"
     ]
    }
   ],
   "source": [
    "Abhitej=np.linspace(10, 100, 25)\n",
    "print(Abhitej)\n",
    "print(f'Array: {Abhitej}')\n",
    "print(f'Dimensions: {Abhitej.ndim}')\n",
    "print(f'Shape: {Abhitej.shape}')\n",
    "print(f'Total elements: {Abhitej.size}')\n",
    "print(f'Data type: {Abhitej.dtype}')\n",
    "print(f'Total bytes: {Abhitej.nbytes}')\n",
    "print('Transpose of the array :',Abhitej.reshape(len(Abhitej),1))\n",
    "print('Transpose of the array :',Abhitej.T)"
   ]
  },
  {
   "cell_type": "code",
   "execution_count": null,
   "id": "d9eec1ae-ca8f-42e3-b076-eac621d7cc8c",
   "metadata": {},
   "outputs": [
    {
     "name": "stdout",
     "output_type": "stream",
     "text": [
      "Mean: 43.333333333333336\n",
      "Median: 37.5\n",
      "Max: 90\n",
      "Min: 10\n",
      "Unique Elements: [10 15 20 30 35 40 50 60 70 80 90]\n",
      "Reshaped:\n",
      " [[10 20 30]\n",
      " [40 50 60]\n",
      " [70 80 90]\n",
      " [15 20 35]]\n",
      "Resized:\n",
      " [[10 20 30]\n",
      " [40 50 60]]\n"
     ]
    }
   ],
   "source": [
    "ucs420_Abhitej = np.array([[10, 20, 30, 40], [50, 60, 70, 80], [90, 15, 20, 35]])\n",
    "print(\"Mean:\", np.mean(ucs420_Abhitej))\n",
    "print(\"Median:\", np.median(ucs420_Abhitej))\n",
    "print(\"Max:\", np.max(ucs420_Abhitej))\n",
    "print(\"Min:\", np.min(ucs420_Abhitej))\n",
    "print(\"Unique Elements:\", np.unique(ucs420_Abhitej))\n",
    "reshaped_ucs420_Abhitej = ucs420_Abhitej.reshape(4, 3)\n",
    "print(\"Reshaped:\\n\", reshaped_ucs420_Abhitej)\n",
    "resized_ucs420_Abhitej = np.resize(ucs420_Abhitej, (2, 3))\n",
    "print(\"Resized:\\n\", resized_ucs420_Abhitej)"
   ]
  }
 ],
 "metadata": {
  "kernelspec": {
   "display_name": "Python 3 (ipykernel)",
   "language": "python",
   "name": "python3"
  },
  "language_info": {
   "codemirror_mode": {
    "name": "ipython",
    "version": 3
   },
   "file_extension": ".py",
   "mimetype": "text/x-python",
   "name": "python",
   "nbconvert_exporter": "python",
   "pygments_lexer": "ipython3",
   "version": "3.12.7"
  }
 },
 "nbformat": 4,
 "nbformat_minor": 5
}
